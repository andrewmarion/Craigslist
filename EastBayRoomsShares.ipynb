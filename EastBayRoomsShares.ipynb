{
 "cells": [
  {
   "cell_type": "code",
   "execution_count": 62,
   "metadata": {},
   "outputs": [],
   "source": [
    "#import get to call a get request on the site\n",
    "from requests import get"
   ]
  },
  {
   "cell_type": "code",
   "execution_count": 63,
   "metadata": {},
   "outputs": [
    {
     "name": "stdout",
     "output_type": "stream",
     "text": [
      "<!DOCTYPE html>\n",
      "<html>\n",
      "<head>\n",
      "    \n",
      "\t<meta charset=\"UTF-8\">\n",
      "\t<meta http-equiv=\"X-UA-Compatible\" content=\"IE=Edge\">\n",
      "\t<meta name=\"viewport\" content=\"width=device-width,initial-scale=1\">\n",
      "\t<meta property=\"og:site_name\" content=\"craigslist\">\n",
      "\t<meta name=\"twitter:card\" content=\"preview\">\n",
      "\t<meta property=\"og:title\" content=\"east bay rooms &amp; shares - craigslist\">\n",
      "\t<meta name=\"description\" content=\"east bay rooms &amp; shares - craigslist\">\n",
      "\t<meta property=\"og:description\" content=\"east bay rooms &amp\n"
     ]
    }
   ],
   "source": [
    "#get the first page of the east bay housing prices\n",
    "response = get('https://sfbay.craigslist.org/search/eby/roo?hasPic=1&availabilityMode=0') #get rid of those lame-o's that post a housing option without a pic using their filter\n",
    "\n",
    "print(response.text[:500])"
   ]
  },
  {
   "cell_type": "code",
   "execution_count": 64,
   "metadata": {},
   "outputs": [],
   "source": [
    "from bs4 import BeautifulSoup"
   ]
  },
  {
   "cell_type": "code",
   "execution_count": 65,
   "metadata": {},
   "outputs": [
    {
     "data": {
      "text/plain": [
       "bs4.BeautifulSoup"
      ]
     },
     "execution_count": 65,
     "metadata": {},
     "output_type": "execute_result"
    }
   ],
   "source": [
    "#grab the HTML as a BS4 soup object\n",
    "html_soup = BeautifulSoup(response.text, 'html.parser')\n",
    "type(html_soup)"
   ]
  },
  {
   "cell_type": "code",
   "execution_count": 66,
   "metadata": {},
   "outputs": [
    {
     "name": "stdout",
     "output_type": "stream",
     "text": [
      "<class 'bs4.element.ResultSet'>\n",
      "120\n"
     ]
    }
   ],
   "source": [
    "#get the macro-container for the housing posts\n",
    "posts = html_soup.find_all('li', class_= 'result-row')\n",
    "print(type(posts)) #to double check that I got a ResultSet\n",
    "print(len(posts)) #to double check I got 50 (elements/page)"
   ]
  },
  {
   "cell_type": "code",
   "execution_count": 67,
   "metadata": {},
   "outputs": [
    {
     "data": {
      "text/plain": [
       "<li class=\"result-row\" data-pid=\"7449239877\" data-repost-of=\"7429205559\">\n",
       "<a class=\"result-image gallery\" data-ids=\"3:01313_9pwd7JxlFh3z_0kF0dc,3:00G0G_2o6313iiZOLz_0lR0t2,3:00R0R_CaEiXnvp3Fz_0Cz0t2,3:00M0M_es5JNemF7v4z_0Cz0t2,3:00202_gDqc5JkeMVyz_0Cz0t2,3:00A0A_dZqA21inOknz_0lR0t2,3:01313_fLV6VgaQkgdz_0Cz0t2,3:01515_f6MGI4olhsRz_0Cz0t2,3:00p0p_h1ErsuQxGSMz_0Cz0t2,3:00o0o_4o7mVfNvGxnz_0Cz0t2,3:00e0e_dYXo3baLYeHz_0Cz0t2\" href=\"https://sfbay.craigslist.org/eby/roo/d/union-city-room-for-rent/7449239877.html\">\n",
       "<span class=\"result-price\">$900</span>\n",
       "</a>\n",
       "<div class=\"result-info\">\n",
       "<span class=\"icon icon-star\" role=\"button\">\n",
       "<span class=\"screen-reader-text\">favorite this post</span>\n",
       "</span>\n",
       "<time class=\"result-date\" datetime=\"2022-02-21 19:44\" title=\"Mon 21 Feb 07:44:49 PM\">Feb 21</time>\n",
       "<h3 class=\"result-heading\">\n",
       "<a class=\"result-title hdrlnk\" data-id=\"7449239877\" href=\"https://sfbay.craigslist.org/eby/roo/d/union-city-room-for-rent/7449239877.html\" id=\"postid_7449239877\">Room For Rent</a>\n",
       "</h3>\n",
       "<span class=\"result-meta\">\n",
       "<span class=\"result-price\">$900</span>\n",
       "<span class=\"result-hood\"> (hayward / castro valley)</span>\n",
       "<span class=\"result-tags\">\n",
       "<span class=\"pictag\">pic</span>\n",
       "</span>\n",
       "<span class=\"banish icon icon-trash\" role=\"button\">\n",
       "<span class=\"screen-reader-text\">hide this posting</span>\n",
       "</span>\n",
       "<span aria-hidden=\"true\" class=\"unbanish icon icon-trash red\" role=\"button\"></span>\n",
       "<a class=\"restore-link\" href=\"#\">\n",
       "<span class=\"restore-narrow-text\">restore</span>\n",
       "<span class=\"restore-wide-text\">restore this posting</span>\n",
       "</a>\n",
       "</span>\n",
       "</div>\n",
       "</li>"
      ]
     },
     "execution_count": 67,
     "metadata": {},
     "output_type": "execute_result"
    }
   ],
   "source": [
    "#grab the first post\n",
    "post_one = posts[0]\n",
    "post_one"
   ]
  },
  {
   "cell_type": "code",
   "execution_count": 68,
   "metadata": {},
   "outputs": [
    {
     "data": {
      "text/plain": [
       "'\\n$900\\n'"
      ]
     },
     "execution_count": 68,
     "metadata": {},
     "output_type": "execute_result"
    }
   ],
   "source": [
    "#grab the price of the first post\n",
    "post_one_price = post_one.a.text\n",
    "post_one_price"
   ]
  },
  {
   "cell_type": "code",
   "execution_count": 69,
   "metadata": {},
   "outputs": [
    {
     "data": {
      "text/plain": [
       "'19:44'"
      ]
     },
     "execution_count": 69,
     "metadata": {},
     "output_type": "execute_result"
    }
   ],
   "source": [
    "#grab the time of the post in datetime format to save on cleaning efforts\n",
    "post_one_time = post_one.find('time', class_= 'result-date')\n",
    "post_one_datetime = post_one_time['datetime']\n",
    "\n",
    "#split them and grab each element of the resulting list to get date and time\n",
    "post_one_datetime = post_one_datetime.split(' ')\n",
    "post_one_date = post_one_datetime[0]\n",
    "post_one_date\n",
    "\n",
    "#element 2 is the time\n",
    "post_one_time = post_one_datetime[1]\n",
    "\n",
    "post_one_time"
   ]
  },
  {
   "cell_type": "code",
   "execution_count": 70,
   "metadata": {},
   "outputs": [
    {
     "data": {
      "text/plain": [
       "'https://sfbay.craigslist.org/eby/roo/d/union-city-room-for-rent/7449239877.html'"
      ]
     },
     "execution_count": 70,
     "metadata": {},
     "output_type": "execute_result"
    }
   ],
   "source": [
    "#title is a and that class, link is grabbing the href attribute of that variable\n",
    "post_one_title = post_one.find('a', class_='result-title hdrlnk')\n",
    "post_one_link = post_one_title['href']\n",
    "post_one_link"
   ]
  },
  {
   "cell_type": "code",
   "execution_count": 71,
   "metadata": {},
   "outputs": [
    {
     "data": {
      "text/plain": [
       "'Room For Rent'"
      ]
     },
     "execution_count": 71,
     "metadata": {},
     "output_type": "execute_result"
    }
   ],
   "source": [
    "#easy to grab the post title by taking the text element of the title variable\n",
    "post_one_title_text = post_one_title.text\n",
    "post_one_title_text"
   ]
  },
  {
   "cell_type": "code",
   "execution_count": 72,
   "metadata": {},
   "outputs": [
    {
     "data": {
      "text/plain": [
       "' (hayward / castro valley)'"
      ]
     },
     "execution_count": 72,
     "metadata": {},
     "output_type": "execute_result"
    }
   ],
   "source": [
    "#the neighborhood is grabbed by finding the span class 'result-hood' and pulling the text element from that\n",
    "post_one_hood = post_one.find('span', class_= 'result-hood').text\n",
    "post_one_hood"
   ]
  },
  {
   "cell_type": "code",
   "execution_count": 73,
   "metadata": {},
   "outputs": [
    {
     "name": "stdout",
     "output_type": "stream",
     "text": [
      "Finished iteration: 1\n",
      "Finished iteration: 2\n",
      "Finished iteration: 3\n",
      "Finished iteration: 4\n",
      "Finished iteration: 5\n",
      "Finished iteration: 6\n"
     ]
    }
   ],
   "source": [
    "#build out the loop\n",
    "from time import sleep\n",
    "from random import randint\n",
    "from warnings import warn\n",
    "from time import time\n",
    "from IPython.core.display import clear_output\n",
    "import numpy as np\n",
    "\n",
    "#find the total number of posts to find the limit of the pagination\n",
    "results_num = html_soup.find('div', class_= 'search-legend')\n",
    "results_total = int(results_num.find('span', class_='totalcount').text)\n",
    "\n",
    "pages = np.arange(0, results_total, 120)\n",
    "\n",
    "iterations = 0\n",
    "\n",
    "post_timing = []\n",
    "post_hoods = []\n",
    "post_title_texts = []\n",
    "post_links = []\n",
    "post_prices = []\n",
    "\n",
    "for page in pages:\n",
    "    \n",
    "    #get request\n",
    "    response = get(\"https://sfbay.craigslist.org/search/eby/roo?\" \n",
    "                   + \"s=\" \n",
    "                   + str(page) \n",
    "                   + \"&hasPic=1\"\n",
    "                   + \"&availabilityMode=0\")\n",
    "\n",
    "    sleep(randint(1,5))\n",
    "     \n",
    "    #throw warning for status codes that are not 200\n",
    "    if response.status_code != 200:\n",
    "        warn('Request: {}; Status code: {}'.format(requests, response.status_code))\n",
    "        \n",
    "    #define the html text\n",
    "    page_html = BeautifulSoup(response.text, 'html.parser')\n",
    "    \n",
    "    #define the posts\n",
    "    posts = html_soup.find_all('li', class_= 'result-row')\n",
    "        \n",
    "    #extract data item-wise\n",
    "    for post in posts:\n",
    "\n",
    "        if post.find('span', class_ = 'result-hood') is not None:\n",
    "\n",
    "            #posting date\n",
    "            #grab the datetime element 0 for date and 1 for time\n",
    "            post_datetime = post.find('time', class_= 'result-date')['datetime']\n",
    "            post_timing.append(post_datetime)\n",
    "\n",
    "            #neighborhoods\n",
    "            post_hood = post.find('span', class_= 'result-hood').text\n",
    "            post_hoods.append(post_hood)\n",
    "\n",
    "            #title text\n",
    "            post_title = post.find('a', class_='result-title hdrlnk')\n",
    "            post_title_text = post_title.text\n",
    "            post_title_texts.append(post_title_text)\n",
    "\n",
    "            #post link\n",
    "            post_link = post_title['href']\n",
    "            post_links.append(post_link)\n",
    "\n",
    "            post_price = post.a.text\n",
    "            post_prices.append(post_price)\n",
    "\n",
    "\n",
    "    iterations += 1\n",
    "    print(\"Finished iteration: \" + str(iterations))"
   ]
  },
  {
   "cell_type": "code",
   "execution_count": 74,
   "metadata": {},
   "outputs": [
    {
     "name": "stdout",
     "output_type": "stream",
     "text": [
      "<class 'pandas.core.frame.DataFrame'>\n",
      "RangeIndex: 720 entries, 0 to 719\n",
      "Data columns (total 5 columns):\n",
      " #   Column        Non-Null Count  Dtype \n",
      "---  ------        --------------  ----- \n",
      " 0   posted        720 non-null    object\n",
      " 1   neighborhood  720 non-null    object\n",
      " 2   post title    720 non-null    object\n",
      " 3   URL           720 non-null    object\n",
      " 4   price         720 non-null    object\n",
      "dtypes: object(5)\n",
      "memory usage: 28.2+ KB\n",
      "None\n"
     ]
    },
    {
     "data": {
      "text/html": [
       "<div>\n",
       "<style scoped>\n",
       "    .dataframe tbody tr th:only-of-type {\n",
       "        vertical-align: middle;\n",
       "    }\n",
       "\n",
       "    .dataframe tbody tr th {\n",
       "        vertical-align: top;\n",
       "    }\n",
       "\n",
       "    .dataframe thead th {\n",
       "        text-align: right;\n",
       "    }\n",
       "</style>\n",
       "<table border=\"1\" class=\"dataframe\">\n",
       "  <thead>\n",
       "    <tr style=\"text-align: right;\">\n",
       "      <th></th>\n",
       "      <th>posted</th>\n",
       "      <th>neighborhood</th>\n",
       "      <th>post title</th>\n",
       "      <th>URL</th>\n",
       "      <th>price</th>\n",
       "    </tr>\n",
       "  </thead>\n",
       "  <tbody>\n",
       "    <tr>\n",
       "      <th>710</th>\n",
       "      <td>2022-02-21 08:29</td>\n",
       "      <td>(emeryville)</td>\n",
       "      <td>$1167 Master bed/bath in cute 3/2 house at N. Oakland/Emeryville line</td>\n",
       "      <td>https://sfbay.craigslist.org/eby/roo/d/emeryville-1167-master-bed-bath-in-cute/7448925313.html</td>\n",
       "      <td>\\n$1,167\\n</td>\n",
       "    </tr>\n",
       "    <tr>\n",
       "      <th>711</th>\n",
       "      <td>2022-02-21 08:21</td>\n",
       "      <td>(oakland north / temescal)</td>\n",
       "      <td>$1167 Master bed/bath in cute 3/2 house near Emeryville</td>\n",
       "      <td>https://sfbay.craigslist.org/eby/roo/d/emeryville-1167-master-bed-bath-in-cute/7448919890.html</td>\n",
       "      <td>\\n$1,167\\n</td>\n",
       "    </tr>\n",
       "    <tr>\n",
       "      <th>712</th>\n",
       "      <td>2022-02-21 08:15</td>\n",
       "      <td>(emeryville)</td>\n",
       "      <td>2 Bedrooms Available in Gated Emeryville Townhouse</td>\n",
       "      <td>https://sfbay.craigslist.org/eby/roo/d/emeryville-bedrooms-available-in-gated/7446782515.html</td>\n",
       "      <td>\\n$1,300\\n</td>\n",
       "    </tr>\n",
       "    <tr>\n",
       "      <th>713</th>\n",
       "      <td>2022-02-21 08:10</td>\n",
       "      <td>(emeryville)</td>\n",
       "      <td>2 Bedrooms Available in Gated Emeryville Townhouse</td>\n",
       "      <td>https://sfbay.craigslist.org/eby/roo/d/emeryville-bedrooms-available-in-gated/7448914193.html</td>\n",
       "      <td>\\n$1,100\\n</td>\n",
       "    </tr>\n",
       "    <tr>\n",
       "      <th>714</th>\n",
       "      <td>2022-02-21 07:57</td>\n",
       "      <td>(Walnut Creek / Concord border east bay area )</td>\n",
       "      <td>Fully furnished room available</td>\n",
       "      <td>https://sfbay.craigslist.org/eby/roo/d/concord-fully-furnished-room-available/7441201123.html</td>\n",
       "      <td>\\n$1,000\\n</td>\n",
       "    </tr>\n",
       "    <tr>\n",
       "      <th>715</th>\n",
       "      <td>2022-02-21 07:41</td>\n",
       "      <td>(brentwood / oakley)</td>\n",
       "      <td>ROOM IN BRENTWOOD AVAILABLE NOW</td>\n",
       "      <td>https://sfbay.craigslist.org/eby/roo/d/brentwood-room-in-brentwood-available/7448897343.html</td>\n",
       "      <td>\\n$800\\n</td>\n",
       "    </tr>\n",
       "    <tr>\n",
       "      <th>716</th>\n",
       "      <td>2022-02-21 07:31</td>\n",
       "      <td>(oakland west)</td>\n",
       "      <td>Great room in big house</td>\n",
       "      <td>https://sfbay.craigslist.org/eby/roo/d/oakland-great-room-in-big-house/7443890924.html</td>\n",
       "      <td>\\n$900\\n</td>\n",
       "    </tr>\n",
       "    <tr>\n",
       "      <th>717</th>\n",
       "      <td>2022-02-21 07:12</td>\n",
       "      <td>(concord / pleasant hill / martinez east bay area )</td>\n",
       "      <td>Walk-in closet overlooking backyard Roommate Needed Large bedroom.</td>\n",
       "      <td>https://sfbay.craigslist.org/eby/roo/d/emeryville-walk-in-closet-overlooking/7444585959.html</td>\n",
       "      <td>\\n$900\\n</td>\n",
       "    </tr>\n",
       "    <tr>\n",
       "      <th>718</th>\n",
       "      <td>2022-02-21 06:20</td>\n",
       "      <td>(hayward / castro valley)</td>\n",
       "      <td>Room for rent</td>\n",
       "      <td>https://sfbay.craigslist.org/eby/roo/d/hayward-room-for-rent/7448858146.html</td>\n",
       "      <td>\\n$850\\n</td>\n",
       "    </tr>\n",
       "    <tr>\n",
       "      <th>719</th>\n",
       "      <td>2022-02-21 05:48</td>\n",
       "      <td>(berkeley north / hills)</td>\n",
       "      <td>1 Room, Berkeley Hills Home (Grizzly Peak/Euclid) (2.2 Miles From Cal)</td>\n",
       "      <td>https://sfbay.craigslist.org/eby/roo/d/berkeley-room-berkeley-hills-home/7444860900.html</td>\n",
       "      <td>\\n$1,300\\n</td>\n",
       "    </tr>\n",
       "  </tbody>\n",
       "</table>\n",
       "</div>"
      ],
      "text/plain": [
       "               posted                                          neighborhood  \\\n",
       "710  2022-02-21 08:29                                          (emeryville)   \n",
       "711  2022-02-21 08:21                            (oakland north / temescal)   \n",
       "712  2022-02-21 08:15                                          (emeryville)   \n",
       "713  2022-02-21 08:10                                          (emeryville)   \n",
       "714  2022-02-21 07:57        (Walnut Creek / Concord border east bay area )   \n",
       "715  2022-02-21 07:41                                  (brentwood / oakley)   \n",
       "716  2022-02-21 07:31                                        (oakland west)   \n",
       "717  2022-02-21 07:12   (concord / pleasant hill / martinez east bay area )   \n",
       "718  2022-02-21 06:20                             (hayward / castro valley)   \n",
       "719  2022-02-21 05:48                              (berkeley north / hills)   \n",
       "\n",
       "                                                                 post title  \\\n",
       "710   $1167 Master bed/bath in cute 3/2 house at N. Oakland/Emeryville line   \n",
       "711                 $1167 Master bed/bath in cute 3/2 house near Emeryville   \n",
       "712                      2 Bedrooms Available in Gated Emeryville Townhouse   \n",
       "713                      2 Bedrooms Available in Gated Emeryville Townhouse   \n",
       "714                                          Fully furnished room available   \n",
       "715                                         ROOM IN BRENTWOOD AVAILABLE NOW   \n",
       "716                                                 Great room in big house   \n",
       "717      Walk-in closet overlooking backyard Roommate Needed Large bedroom.   \n",
       "718                                                           Room for rent   \n",
       "719  1 Room, Berkeley Hills Home (Grizzly Peak/Euclid) (2.2 Miles From Cal)   \n",
       "\n",
       "                                                                                                URL  \\\n",
       "710  https://sfbay.craigslist.org/eby/roo/d/emeryville-1167-master-bed-bath-in-cute/7448925313.html   \n",
       "711  https://sfbay.craigslist.org/eby/roo/d/emeryville-1167-master-bed-bath-in-cute/7448919890.html   \n",
       "712   https://sfbay.craigslist.org/eby/roo/d/emeryville-bedrooms-available-in-gated/7446782515.html   \n",
       "713   https://sfbay.craigslist.org/eby/roo/d/emeryville-bedrooms-available-in-gated/7448914193.html   \n",
       "714   https://sfbay.craigslist.org/eby/roo/d/concord-fully-furnished-room-available/7441201123.html   \n",
       "715    https://sfbay.craigslist.org/eby/roo/d/brentwood-room-in-brentwood-available/7448897343.html   \n",
       "716          https://sfbay.craigslist.org/eby/roo/d/oakland-great-room-in-big-house/7443890924.html   \n",
       "717    https://sfbay.craigslist.org/eby/roo/d/emeryville-walk-in-closet-overlooking/7444585959.html   \n",
       "718                    https://sfbay.craigslist.org/eby/roo/d/hayward-room-for-rent/7448858146.html   \n",
       "719        https://sfbay.craigslist.org/eby/roo/d/berkeley-room-berkeley-hills-home/7444860900.html   \n",
       "\n",
       "          price  \n",
       "710  \\n$1,167\\n  \n",
       "711  \\n$1,167\\n  \n",
       "712  \\n$1,300\\n  \n",
       "713  \\n$1,100\\n  \n",
       "714  \\n$1,000\\n  \n",
       "715    \\n$800\\n  \n",
       "716    \\n$900\\n  \n",
       "717    \\n$900\\n  \n",
       "718    \\n$850\\n  \n",
       "719  \\n$1,300\\n  "
      ]
     },
     "execution_count": 74,
     "metadata": {},
     "output_type": "execute_result"
    }
   ],
   "source": [
    "import pandas as pd\n",
    "\n",
    "eb_rooms = pd.DataFrame({'posted': post_timing,\n",
    "                       'neighborhood': post_hoods,\n",
    "                       'post title': post_title_texts,\n",
    "                       'URL': post_links,\n",
    "                       'price': post_prices})\n",
    "print(eb_rooms.info())\n",
    "eb_rooms.tail(10)"
   ]
  },
  {
   "cell_type": "code",
   "execution_count": 75,
   "metadata": {},
   "outputs": [
    {
     "name": "stdout",
     "output_type": "stream",
     "text": [
      "<class 'pandas.core.frame.DataFrame'>\n",
      "RangeIndex: 720 entries, 0 to 719\n",
      "Data columns (total 5 columns):\n",
      " #   Column        Non-Null Count  Dtype         \n",
      "---  ------        --------------  -----         \n",
      " 0   posted        720 non-null    datetime64[ns]\n",
      " 1   neighborhood  720 non-null    object        \n",
      " 2   post title    720 non-null    object        \n",
      " 3   URL           720 non-null    object        \n",
      " 4   price         720 non-null    object        \n",
      "dtypes: datetime64[ns](1), object(4)\n",
      "memory usage: 28.2+ KB\n"
     ]
    }
   ],
   "source": [
    "#convert datetime string into datetime object to be able to work with it\n",
    "from datetime import datetime\n",
    "\n",
    "eb_rooms['posted'] = pd.to_datetime(eb_rooms['posted'])\n",
    "eb_rooms.info()"
   ]
  },
  {
   "cell_type": "code",
   "execution_count": 76,
   "metadata": {},
   "outputs": [],
   "source": [
    "eb_rooms['price'] = eb_rooms['price'].astype(str)"
   ]
  },
  {
   "cell_type": "code",
   "execution_count": 86,
   "metadata": {},
   "outputs": [],
   "source": [
    "import re\n",
    "\n",
    "eb_rooms['price'] = eb_rooms['price'].apply(lambda x: re.sub(r'[\\n$]+', '', x))\n",
    "eb_rooms['price'] = eb_rooms['price'].apply(lambda x: re.sub(r',', '', x))\n",
    "\n",
    "#replace '' with NaN values in the df before turning the column to int so data shape is maintained"
   ]
  },
  {
   "cell_type": "code",
   "execution_count": 87,
   "metadata": {},
   "outputs": [
    {
     "data": {
      "text/plain": [
       "0       900\n",
       "1       640\n",
       "2      1250\n",
       "3       718\n",
       "4       643\n",
       "       ... \n",
       "115     800\n",
       "116     900\n",
       "117     900\n",
       "118     850\n",
       "119    1300\n",
       "Name: price, Length: 120, dtype: object"
      ]
     },
     "execution_count": 87,
     "metadata": {},
     "output_type": "execute_result"
    }
   ],
   "source": [
    "eb_rooms['price']"
   ]
  },
  {
   "cell_type": "code",
   "execution_count": 88,
   "metadata": {},
   "outputs": [],
   "source": [
    "import numpy as np\n",
    "eb_rooms['price'].replace('', np.nan, inplace=True)"
   ]
  },
  {
   "cell_type": "code",
   "execution_count": 89,
   "metadata": {},
   "outputs": [],
   "source": [
    "#drop the NAs, I don't like them and we have a lot of data\n",
    "eb_rooms = eb_rooms.dropna()"
   ]
  },
  {
   "cell_type": "code",
   "execution_count": 90,
   "metadata": {},
   "outputs": [],
   "source": [
    "#first remove the parentheses\n",
    "eb_rooms['neighborhood'] = eb_rooms['neighborhood'].apply(lambda x: re.sub(r'[()]+', '', x))\n",
    "\n",
    "#and the /\n",
    "eb_rooms['neighborhood'] = eb_rooms['neighborhood'].apply(lambda x: re.sub(r'[/]+', '', x))\n",
    "\n",
    "#and commas\n",
    "eb_rooms['neighborhood'] = eb_rooms['neighborhood'].apply(lambda x: re.sub(r'[,]+', '', x)) "
   ]
  },
  {
   "cell_type": "code",
   "execution_count": 91,
   "metadata": {},
   "outputs": [],
   "source": [
    "#people spam craigslist so how many of these are unique?\n",
    "eb_rooms = eb_rooms.drop_duplicates(subset='URL')"
   ]
  },
  {
   "cell_type": "code",
   "execution_count": 92,
   "metadata": {},
   "outputs": [],
   "source": [
    "#now turn the price to int\n",
    "eb_rooms['price'] = eb_rooms['price'].astype(int)"
   ]
  },
  {
   "cell_type": "code",
   "execution_count": 93,
   "metadata": {},
   "outputs": [
    {
     "name": "stdout",
     "output_type": "stream",
     "text": [
      "<class 'pandas.core.frame.DataFrame'>\n",
      "Int64Index: 120 entries, 0 to 119\n",
      "Data columns (total 5 columns):\n",
      " #   Column        Non-Null Count  Dtype         \n",
      "---  ------        --------------  -----         \n",
      " 0   posted        120 non-null    datetime64[ns]\n",
      " 1   neighborhood  120 non-null    object        \n",
      " 2   post title    120 non-null    object        \n",
      " 3   URL           120 non-null    object        \n",
      " 4   price         120 non-null    int64         \n",
      "dtypes: datetime64[ns](1), int64(1), object(3)\n",
      "memory usage: 5.6+ KB\n"
     ]
    }
   ],
   "source": [
    "eb_rooms.info() #finally a quantitative variable!"
   ]
  },
  {
   "cell_type": "code",
   "execution_count": 94,
   "metadata": {},
   "outputs": [],
   "source": [
    "eb_rooms['neighborhood'] = eb_rooms['neighborhood'].apply(lambda x: x.lstrip(' '))"
   ]
  },
  {
   "cell_type": "code",
   "execution_count": 95,
   "metadata": {},
   "outputs": [
    {
     "name": "stderr",
     "output_type": "stream",
     "text": [
      "/Users/andrew/opt/anaconda3/lib/python3.8/site-packages/seaborn/distributions.py:2551: FutureWarning: `distplot` is a deprecated function and will be removed in a future version. Please adapt your code to use either `displot` (a figure-level function with similar flexibility) or `histplot` (an axes-level function for histograms).\n",
      "  warnings.warn(msg, FutureWarning)\n"
     ]
    },
    {
     "data": {
      "image/png": "[encoded data removed]",
      "text/plain": [
       "<Figure size 432x288 with 1 Axes>"
      ]
     },
     "metadata": {
      "needs_background": "light"
     },
     "output_type": "display_data"
    }
   ],
   "source": [
    "#start to look at the distributions\n",
    "from matplotlib import figure\n",
    "import matplotlib as plt\n",
    "import seaborn as sns\n",
    "%matplotlib inline\n",
    "\n",
    "#figure(num=None, figsize=(8, 6), dpi=80, facecolor='w', edgecolor='k')\n",
    "sns.distplot(eb_rooms['price']);"
   ]
  },
  {
   "cell_type": "code",
   "execution_count": 98,
   "metadata": {},
   "outputs": [
    {
     "data": {
      "text/html": [
       "<div>\n",
       "<style scoped>\n",
       "    .dataframe tbody tr th:only-of-type {\n",
       "        vertical-align: middle;\n",
       "    }\n",
       "\n",
       "    .dataframe tbody tr th {\n",
       "        vertical-align: top;\n",
       "    }\n",
       "\n",
       "    .dataframe thead th {\n",
       "        text-align: right;\n",
       "    }\n",
       "</style>\n",
       "<table border=\"1\" class=\"dataframe\">\n",
       "  <thead>\n",
       "    <tr style=\"text-align: right;\">\n",
       "      <th></th>\n",
       "      <th>posted</th>\n",
       "      <th>neighborhood</th>\n",
       "      <th>post title</th>\n",
       "      <th>URL</th>\n",
       "      <th>price</th>\n",
       "    </tr>\n",
       "  </thead>\n",
       "  <tbody>\n",
       "    <tr>\n",
       "      <th>16</th>\n",
       "      <td>2022-02-21 16:04:00</td>\n",
       "      <td>berkeley</td>\n",
       "      <td>Sublet in beautiful craftsman home (Elmwood)</td>\n",
       "      <td>https://sfbay.craigslist.org/eby/roo/d/berkeley-sublet-in-beautiful-craftsman/7449172795.html</td>\n",
       "      <td>950</td>\n",
       "    </tr>\n",
       "  </tbody>\n",
       "</table>\n",
       "</div>"
      ],
      "text/plain": [
       "                posted neighborhood  \\\n",
       "16 2022-02-21 16:04:00     berkeley   \n",
       "\n",
       "                                      post title  \\\n",
       "16  Sublet in beautiful craftsman home (Elmwood)   \n",
       "\n",
       "                                                                                              URL  \\\n",
       "16  https://sfbay.craigslist.org/eby/roo/d/berkeley-sublet-in-beautiful-craftsman/7449172795.html   \n",
       "\n",
       "    price  \n",
       "16    950  "
      ]
     },
     "execution_count": 98,
     "metadata": {},
     "output_type": "execute_result"
    }
   ],
   "source": [
    "pd.options.display.max_colwidth = 100\n",
    "cheap_berkeley = eb_rooms[(eb_rooms['price'] < 1000) & (eb_rooms['neighborhood'] == 'berkeley')]\n",
    "cheap_berkeley"
   ]
  },
  {
   "cell_type": "code",
   "execution_count": null,
   "metadata": {},
   "outputs": [],
   "source": []
  }
 ],
 "metadata": {
  "kernelspec": {
   "display_name": "Python 3",
   "language": "python",
   "name": "python3"
  },
  "language_info": {
   "codemirror_mode": {
    "name": "ipython",
    "version": 3
   },
   "file_extension": ".py",
   "mimetype": "text/x-python",
   "name": "python",
   "nbconvert_exporter": "python",
   "pygments_lexer": "ipython3",
   "version": "3.8.5"
  }
 },
 "nbformat": 4,
 "nbformat_minor": 4
}
